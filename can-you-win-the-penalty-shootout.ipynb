{
 "cells": [
  {
   "cell_type": "markdown",
   "id": "ada507b9-df74-4867-89a2-3d9a6e62a1e8",
   "metadata": {},
   "source": [
    "# can-you-win-the-penalty-shootout"
   ]
  },
  {
   "cell_type": "code",
   "execution_count": 8,
   "id": "7ba388ea-e6b7-4a24-9db1-0011ae85b863",
   "metadata": {},
   "outputs": [],
   "source": [
    "from numpy.random import uniform\n",
    "from tqdm.notebook import tqdm"
   ]
  },
  {
   "cell_type": "code",
   "execution_count": 12,
   "id": "be5d5cc7-b8a6-4c8a-bba0-6551b2bd2633",
   "metadata": {},
   "outputs": [],
   "source": [
    "ITER = 5_000_000"
   ]
  },
  {
   "cell_type": "code",
   "execution_count": 13,
   "id": "976dc3fc-b019-4a94-adad-0d810638a855",
   "metadata": {},
   "outputs": [
    {
     "data": {
      "application/vnd.jupyter.widget-view+json": {
       "model_id": "d0e82de6f00048eeaf02396ece632210",
       "version_major": 2,
       "version_minor": 0
      },
      "text/plain": [
       "HBox(children=(FloatProgress(value=0.0, max=5000000.0), HTML(value='')))"
      ]
     },
     "metadata": {},
     "output_type": "display_data"
    },
    {
     "name": "stdout",
     "output_type": "stream",
     "text": [
      "\n"
     ]
    }
   ],
   "source": [
    "answer = 0\n",
    "for i in tqdm(range(ITER)):\n",
    "    fatch = uniform(0,1)\n",
    "    fitch = uniform(0,1)\n",
    "    fetch = uniform(0,1)\n",
    "    above = (fitch > fatch) and (fetch > fatch)\n",
    "    below = (fitch < fatch) and (fetch < fatch)\n",
    "    if above or below:\n",
    "        answer += 1"
   ]
  },
  {
   "cell_type": "code",
   "execution_count": 14,
   "id": "3a9d7360-34c6-4184-ad63-42d9d98306c3",
   "metadata": {},
   "outputs": [
    {
     "name": "stdout",
     "output_type": "stream",
     "text": [
      "66.6470%\n"
     ]
    }
   ],
   "source": [
    "print(\"{:.4%}\".format(answer / ITER))"
   ]
  },
  {
   "cell_type": "code",
   "execution_count": null,
   "id": "9890fb89-0973-4d1f-9893-30a742652927",
   "metadata": {},
   "outputs": [],
   "source": []
  }
 ],
 "metadata": {
  "kernelspec": {
   "display_name": "Python 3",
   "language": "python",
   "name": "python3"
  },
  "language_info": {
   "codemirror_mode": {
    "name": "ipython",
    "version": 3
   },
   "file_extension": ".py",
   "mimetype": "text/x-python",
   "name": "python",
   "nbconvert_exporter": "python",
   "pygments_lexer": "ipython3",
   "version": "3.6.9"
  }
 },
 "nbformat": 4,
 "nbformat_minor": 5
}
