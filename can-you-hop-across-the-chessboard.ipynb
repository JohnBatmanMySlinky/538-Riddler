{
 "cells": [
  {
   "cell_type": "markdown",
   "id": "2dde823f-84cb-4775-b3c7-b19d580d9293",
   "metadata": {},
   "source": [
    "# can-you-hop-across-the-chessboard"
   ]
  },
  {
   "cell_type": "markdown",
   "id": "56b51b70-6266-4c71-8885-7e80c25dbb10",
   "metadata": {},
   "source": [
    "### Riddler Classic\n",
    "\n",
    "Today marks the beginning of the Summer Olympics! One of the brand-new events this year is sport climbing, in which competitors try their hands (and feet) at lead climbing, speed climbing and bouldering.\n",
    "\n",
    "Suppose the event’s organizers accidentally forgot to place all the climbing holds on and had to do it last-minute for their 10-meter wall (the regulation height for the purposes of this riddle). Climbers won’t have any trouble moving horizontally along the wall. However, climbers can’t move between holds that are more than 1 meter apart vertically.\n",
    "\n",
    "In a rush, the organizers place climbing holds randomly until there are no vertical gaps between climbing holds (including the bottom and top of the wall). Once they are done placing the holds, how many will there be on average (not including the bottom and top of the wall)?\n",
    "\n",
    "Extra credit: Now suppose climbers find it just as difficult to move horizontally as vertically, meaning they can’t move between any two holds that are more than 1 meter apart in any direction. Suppose also that the climbing wall is a 10-by-10 meter square. If the organizers again place the holds randomly, how many have to be placed on average until it’s possible to climb the wall?"
   ]
  },
  {
   "cell_type": "code",
   "execution_count": 30,
   "id": "e67c99ff-e54e-45b4-aa84-e938658e52f1",
   "metadata": {},
   "outputs": [],
   "source": [
    "def max_delta(list_of_holds):\n",
    "    return max([y-x for x,y in zip(list_of_holds[:-1], list_of_holds[1:])])"
   ]
  },
  {
   "cell_type": "code",
   "execution_count": 49,
   "id": "190a69d5-b617-435d-965a-19cacc872433",
   "metadata": {},
   "outputs": [],
   "source": [
    "from bisect import insort\n",
    "from numpy.random import uniform\n",
    "import matplotlib.pyplot as plt\n",
    "from numpy import mean\n",
    "from tqdm.notebook import tqdm"
   ]
  },
  {
   "cell_type": "code",
   "execution_count": 63,
   "id": "33022703-df73-43d8-8518-373fc9db5497",
   "metadata": {},
   "outputs": [],
   "source": [
    "ITER = 3_000_000"
   ]
  },
  {
   "cell_type": "code",
   "execution_count": 64,
   "id": "9395c4a2-4b81-4dbc-a7c5-6eaa32f89b95",
   "metadata": {},
   "outputs": [
    {
     "data": {
      "application/vnd.jupyter.widget-view+json": {
       "model_id": "efa8551074b348f9afd0affe1ad3cfd3",
       "version_major": 2,
       "version_minor": 0
      },
      "text/plain": [
       "HBox(children=(FloatProgress(value=0.0, max=3000000.0), HTML(value='')))"
      ]
     },
     "metadata": {},
     "output_type": "display_data"
    },
    {
     "name": "stdout",
     "output_type": "stream",
     "text": [
      "\n"
     ]
    }
   ],
   "source": [
    "number_holds = []\n",
    "for i in tqdm(range(1,ITER+1)):\n",
    "    wall_y_coord = [0,10]\n",
    "    while max_delta(wall_y_coord) > 1:\n",
    "        insort(wall_y_coord, uniform(0,10))\n",
    "    number_holds.append(len(wall_y_coord) - 2)"
   ]
  },
  {
   "cell_type": "code",
   "execution_count": 65,
   "id": "16d08372-39d4-4d40-a63f-7588b2f8b1eb",
   "metadata": {},
   "outputs": [
    {
     "data": {
      "text/plain": [
       "[0,\n",
       " 0.14196063844353346,\n",
       " 0.5808771333547069,\n",
       " 0.6078488247715885,\n",
       " 1.497054888557262,\n",
       " 1.513601420301427,\n",
       " 1.6969046318474301,\n",
       " 1.732753370703517,\n",
       " 1.8022095496330914,\n",
       " 1.8054814880069348,\n",
       " 1.943434754146961,\n",
       " 2.2235765753982593,\n",
       " 2.2473178564520535,\n",
       " 2.3597056600385837,\n",
       " 2.407603196117077,\n",
       " 2.722985515956532,\n",
       " 2.8147510550478905,\n",
       " 2.917004197882255,\n",
       " 3.5371618677470105,\n",
       " 3.7586860271351985,\n",
       " 3.8678132195601345,\n",
       " 4.205248518227887,\n",
       " 4.218961043928959,\n",
       " 4.855613131258915,\n",
       " 5.710030088253665,\n",
       " 6.426139928876275,\n",
       " 6.851809374640688,\n",
       " 7.596254354392582,\n",
       " 7.933484415340737,\n",
       " 8.606632616337569,\n",
       " 8.736970791923985,\n",
       " 9.620249720568408,\n",
       " 9.736857634707668,\n",
       " 10]"
      ]
     },
     "execution_count": 65,
     "metadata": {},
     "output_type": "execute_result"
    }
   ],
   "source": [
    "wall_y_coord"
   ]
  },
  {
   "cell_type": "code",
   "execution_count": 66,
   "id": "46dfd5d5-9ed8-4aa6-8d78-6d599864ed88",
   "metadata": {},
   "outputs": [
    {
     "data": {
      "image/png": "[encoded data removed]",
      "text/plain": [
       "<Figure size 432x288 with 1 Axes>"
      ]
     },
     "metadata": {
      "needs_background": "light"
     },
     "output_type": "display_data"
    }
   ],
   "source": [
    "plt.hist(number_holds)\n",
    "plt.show()"
   ]
  },
  {
   "cell_type": "code",
   "execution_count": 67,
   "id": "ccfe5bbd-7cd3-4560-9d8f-a1b19fbd9d6e",
   "metadata": {},
   "outputs": [
    {
     "data": {
      "text/plain": [
       "43.054147666666665"
      ]
     },
     "execution_count": 67,
     "metadata": {},
     "output_type": "execute_result"
    }
   ],
   "source": [
    "mean(number_holds)"
   ]
  },
  {
   "cell_type": "code",
   "execution_count": 68,
   "id": "804c9a54-f0d6-4f9f-a633-573c6ef8e0aa",
   "metadata": {},
   "outputs": [
    {
     "data": {
      "text/plain": [
       "11"
      ]
     },
     "execution_count": 68,
     "metadata": {},
     "output_type": "execute_result"
    }
   ],
   "source": [
    "min(number_holds)"
   ]
  },
  {
   "cell_type": "code",
   "execution_count": 69,
   "id": "e17f6a09-6d44-4373-99b2-2f194e69c690",
   "metadata": {},
   "outputs": [
    {
     "data": {
      "text/plain": [
       "214"
      ]
     },
     "execution_count": 69,
     "metadata": {},
     "output_type": "execute_result"
    }
   ],
   "source": [
    "max(number_holds)"
   ]
  },
  {
   "cell_type": "code",
   "execution_count": null,
   "id": "6ee49730-108a-4ce9-9cd1-468411c12225",
   "metadata": {},
   "outputs": [],
   "source": []
  }
 ],
 "metadata": {
  "kernelspec": {
   "display_name": "Python 3",
   "language": "python",
   "name": "python3"
  },
  "language_info": {
   "codemirror_mode": {
    "name": "ipython",
    "version": 3
   },
   "file_extension": ".py",
   "mimetype": "text/x-python",
   "name": "python",
   "nbconvert_exporter": "python",
   "pygments_lexer": "ipython3",
   "version": "3.6.9"
  }
 },
 "nbformat": 4,
 "nbformat_minor": 5
}
